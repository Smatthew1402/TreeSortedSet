{
 "cells": [
  {
   "cell_type": "code",
   "execution_count": 1,
   "metadata": {},
   "outputs": [
    {
     "name": "stdout",
     "output_type": "stream",
     "text": [
      " 0  1  2  3  5  6 \n"
     ]
    }
   ],
   "source": [
    "from treeset import sortedset\n",
    "\n",
    "set1 = sortedset()\n",
    "set1.add(2)\n",
    "set1.add(1)\n",
    "set1.add(3)\n",
    "set1.add(5)\n",
    "set1.add(6)\n",
    "set1.add(0)\n",
    "print(set1)\n"
   ]
  },
  {
   "cell_type": "code",
   "execution_count": 2,
   "metadata": {},
   "outputs": [
    {
     "name": "stdout",
     "output_type": "stream",
     "text": [
      " 0  1  2  3  5  6 \n"
     ]
    }
   ],
   "source": [
    "print(set1)"
   ]
  },
  {
   "cell_type": "code",
   "execution_count": 3,
   "metadata": {},
   "outputs": [
    {
     "name": "stdout",
     "output_type": "stream",
     "text": [
      "(2(1(0))(3(5(6))))\n"
     ]
    },
    {
     "ename": "AttributeError",
     "evalue": "type object 'BSTree' has no attribute 'makelist'",
     "output_type": "error",
     "traceback": [
      "\u001b[0;31m---------------------------------------------------------------------------\u001b[0m",
      "\u001b[0;31mAttributeError\u001b[0m                            Traceback (most recent call last)",
      "\u001b[1;32m/Users/smiller/Desktop/S5/321/Week12/TreeSortedSet/settest.ipynb Cell 3\u001b[0m in \u001b[0;36m<cell line: 3>\u001b[0;34m()\u001b[0m\n\u001b[1;32m      <a href='vscode-notebook-cell:/Users/smiller/Desktop/S5/321/Week12/TreeSortedSet/settest.ipynb#W2sZmlsZQ%3D%3D?line=0'>1</a>\u001b[0m \u001b[39mfrom\u001b[39;00m \u001b[39mtreebalancer\u001b[39;00m \u001b[39mimport\u001b[39;00m treebal\n\u001b[1;32m      <a href='vscode-notebook-cell:/Users/smiller/Desktop/S5/321/Week12/TreeSortedSet/settest.ipynb#W2sZmlsZQ%3D%3D?line=1'>2</a>\u001b[0m \u001b[39mprint\u001b[39m(set1\u001b[39m.\u001b[39mtree)\n\u001b[0;32m----> <a href='vscode-notebook-cell:/Users/smiller/Desktop/S5/321/Week12/TreeSortedSet/settest.ipynb#W2sZmlsZQ%3D%3D?line=2'>3</a>\u001b[0m \u001b[39mprint\u001b[39m(treebal\u001b[39m.\u001b[39;49mbalance(set1\u001b[39m.\u001b[39;49mtree))\n",
      "File \u001b[0;32m~/Desktop/S5/321/Week12/TreeSortedSet/treebalancer.py:5\u001b[0m, in \u001b[0;36mtreebal.balance\u001b[0;34m(tree)\u001b[0m\n\u001b[1;32m      4\u001b[0m \u001b[39mdef\u001b[39;00m \u001b[39mbalance\u001b[39m(tree:BSTree)\u001b[39m-\u001b[39m\u001b[39m>\u001b[39mBSTree:\n\u001b[0;32m----> 5\u001b[0m     datalist \u001b[39m=\u001b[39m BSTree\u001b[39m.\u001b[39;49mmakelist(tree)\n\u001b[1;32m      6\u001b[0m     fuck \u001b[39m=\u001b[39m BSTree()\n\u001b[1;32m      7\u001b[0m     \u001b[39mreturn\u001b[39;00m treebal\u001b[39m.\u001b[39m_balancehelper(datalist, fuck)\n",
      "\u001b[0;31mAttributeError\u001b[0m: type object 'BSTree' has no attribute 'makelist'"
     ]
    }
   ],
   "source": [
    "from treebalancer import treebal\n",
    "print(set1.tree)\n",
    "print(treebal.balance(set1.tree))\n"
   ]
  },
  {
   "cell_type": "code",
   "execution_count": 4,
   "metadata": {},
   "outputs": [
    {
     "name": "stdout",
     "output_type": "stream",
     "text": [
      "(0(1(2(3(4(5(6(7(8(9(10(11(12(13(14(15(16(17(18(19(20(21(22(23(24(25(26(27(28(29(30(31(32(33(34(35(36(37(38(39(40(41(42(43(44(45(46(47(48(49(50(51(52(53(54(55(56(57(58(59(60(61(62(63(64(65(66(67(68(69(70(71(72(73(74(75(76(77(78(79(80(81(82(83(84(85(86(87(88(89(90(91(92(93(94(95(96(97(98(99))))))))))))))))))))))))))))))))))))))))))))))))))))))))))))))))))))))))))))))))))))))))))))))))))))\n",
      "(49(24(11(5(2(0(1))(3(4)))(8(6(7))(9(10))))(17(14(12(13))(15(16)))(20(18(19))(22(21)(23)))))(36(30(27(25(26))(28(29)))(33(31(32))(34(35))))(42(39(37(38))(40(41)))(45(43(44))(47(46)(48))))))(74(61(55(52(50(51))(53(54)))(58(56(57))(59(60))))(67(64(62(63))(65(66)))(70(68(69))(72(71)(73)))))(87(80(77(75(76))(78(79)))(83(81(82))(85(84)(86))))(93(90(88(89))(91(92)))(96(94(95))(98(97)(99)))))))\n"
     ]
    }
   ],
   "source": [
    "from treebalancer import treebal\n",
    "from treeset import sortedset\n",
    "set2 = sortedset()\n",
    "\n",
    "for i in range(100):\n",
    "    set2.add(i)\n",
    "print(set2.tree)\n",
    "baltree = treebal.balance(set2.tree)\n",
    "print(baltree)"
   ]
  }
 ],
 "metadata": {
  "kernelspec": {
   "display_name": "Python 3.10.4 64-bit",
   "language": "python",
   "name": "python3"
  },
  "language_info": {
   "codemirror_mode": {
    "name": "ipython",
    "version": 3
   },
   "file_extension": ".py",
   "mimetype": "text/x-python",
   "name": "python",
   "nbconvert_exporter": "python",
   "pygments_lexer": "ipython3",
   "version": "3.10.4"
  },
  "orig_nbformat": 4,
  "vscode": {
   "interpreter": {
    "hash": "aee8b7b246df8f9039afb4144a1f6fd8d2ca17a180786b69acc140d282b71a49"
   }
  }
 },
 "nbformat": 4,
 "nbformat_minor": 2
}
