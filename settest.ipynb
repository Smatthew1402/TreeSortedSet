{
 "cells": [
  {
   "cell_type": "code",
   "execution_count": 1,
   "metadata": {},
   "outputs": [],
   "source": [
    "from treeset import sortedset\n",
    "\n",
    "set1 = sortedset()\n",
    "set1.add(2)\n",
    "set1.add(1)\n",
    "set1.add(3)\n",
    "set1.add(5)\n",
    "set1.add(6)\n",
    "set1.add(0)\n",
    "\n"
   ]
  },
  {
   "cell_type": "code",
   "execution_count": null,
   "metadata": {},
   "outputs": [],
   "source": [
    "print(set1)"
   ]
  },
  {
   "cell_type": "code",
   "execution_count": null,
   "metadata": {},
   "outputs": [],
   "source": [
    "from treebalancer import treebal\n",
    "print(set1.tree)\n",
    "print(treebal.balance(set1.tree))\n"
   ]
  },
  {
   "cell_type": "code",
   "execution_count": 2,
   "metadata": {},
   "outputs": [
    {
     "name": "stdout",
     "output_type": "stream",
     "text": [
      "(0 None (1 None (2 None (3 None (4 None (5 None (6 None (7 None (8 None (9 None (10 None (11 None (12 None (13 None (14 None (15 None (16 None (17 None (18 None (19 None (20 None (21 None (22 None (23 None (24 None (25 None (26 None (27 None (28 None (29 None (30 None (31 None (32 None (33 None (34 None (35 None (36 None (37 None (38 None (39 None (40 None (41 None (42 None (43 None (44 None (45 None (46 None (47 None (48 None (49 None (50 None (51 None (52 None (53 None (54 None (55 None (56 None (57 None (58 None (59 None (60 None (61 None (62 None (63 None (64 None (65 None (66 None (67 None (68 None (69 None (70 None (71 None (72 None (73 None (74 None (75 None (76 None (77 None (78 None (79 None (80 None (81 None (82 None (83 None (84 None (85 None (86 None (87 None (88 None (89 None (90 None (91 None (92 None (93 None (94 None (95 None (96 None (97 None (98 None (99 None None))))))))))))))))))))))))))))))))))))))))))))))))))))))))))))))))))))))))))))))))))))))))))))))))))))\n",
      "(49 (24 (11 (5 (2 (0 None (1 None None)) (3 None (4 None None))) (8 (6 None (7 None None)) (9 None (10 None None)))) (17 (14 (12 None (13 None None)) (15 None (16 None None))) (20 (18 None (19 None None)) (22 (21 None None) (23 None None))))) (36 (30 (27 (25 None (26 None None)) (28 None (29 None None))) (33 (31 None (32 None None)) (34 None (35 None None)))) (42 (39 (37 None (38 None None)) (40 None (41 None None))) (45 (43 None (44 None None)) (47 (46 None None) (48 None None)))))) (74 (61 (55 (52 (50 None (51 None None)) (53 None (54 None None))) (58 (56 None (57 None None)) (59 None (60 None None)))) (67 (64 (62 None (63 None None)) (65 None (66 None None))) (70 (68 None (69 None None)) (72 (71 None None) (73 None None))))) (87 (80 (77 (75 None (76 None None)) (78 None (79 None None))) (83 (81 None (82 None None)) (85 (84 None None) (86 None None)))) (93 (90 (88 None (89 None None)) (91 None (92 None None))) (96 (94 None (95 None None)) (98 (97 None None) (99 None None)))))))\n"
     ]
    }
   ],
   "source": [
    "from treebalancer import treebal\n",
    "set2 = sortedset()\n",
    "\n",
    "for i in range(100):\n",
    "    set2.add(i)\n",
    "print(set2.tree)\n",
    "baltree = treebal.balance(set2.tree)\n",
    "print(baltree)"
   ]
  }
 ],
 "metadata": {
  "kernelspec": {
   "display_name": "Python 3.10.4 64-bit",
   "language": "python",
   "name": "python3"
  },
  "language_info": {
   "codemirror_mode": {
    "name": "ipython",
    "version": 3
   },
   "file_extension": ".py",
   "mimetype": "text/x-python",
   "name": "python",
   "nbconvert_exporter": "python",
   "pygments_lexer": "ipython3",
   "version": "3.10.4"
  },
  "orig_nbformat": 4,
  "vscode": {
   "interpreter": {
    "hash": "aee8b7b246df8f9039afb4144a1f6fd8d2ca17a180786b69acc140d282b71a49"
   }
  }
 },
 "nbformat": 4,
 "nbformat_minor": 2
}
